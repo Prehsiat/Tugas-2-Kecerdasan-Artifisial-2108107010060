{
 "cells": [
  {
   "cell_type": "code",
   "execution_count": 3,
   "metadata": {},
   "outputs": [],
   "source": [
    "# Mengimpor pustaka yang diperlukan\n",
    "import numpy as np               # Untuk operasi numerik\n",
    "import pandas as pd              # Untuk manipulasi dan analisis data menggunakan DataFrame\n",
    "import matplotlib.pyplot as plt  # Untuk visualisasi data\n",
    "\n",
    "import tensorflow as tf          # Untuk pembuatan dan pelatihan model deep learning\n",
    "import tensorflow_hub as hub     # Untuk menggunakan pre-trained models dari TensorFlow Hub\n",
    "from tensorflow.keras.callbacks import TensorBoard  # Untuk menggunakan TensorBoard sebagai callback dalam pelatihan model"
   ]
  },
  {
   "cell_type": "code",
   "execution_count": 4,
   "metadata": {},
   "outputs": [],
   "source": [
    "# Membuat objek TensorBoard callback untuk melacak performa model selama pelatihan\n",
    "tensorboard_callback = TensorBoard(log_dir='./logs')"
   ]
  },
  {
   "cell_type": "code",
   "execution_count": 5,
   "metadata": {},
   "outputs": [],
   "source": [
    "# Membaca file CSV 'wine-reviews.csv' ke dalam DataFrame menggunakan Pandas\n",
    "# Memuat kolom-kolom tertentu: 'country', 'description', 'points', 'price', 'variety', 'winery'\n",
    "df = pd.read_csv(\"wine-reviews.csv\", usecols=['country', 'description', 'points', 'price', 'variety', 'winery'])\n"
   ]
  },
  {
   "cell_type": "code",
   "execution_count": 7,
   "metadata": {},
   "outputs": [
    {
     "data": {
      "text/html": [
       "<div>\n",
       "<style scoped>\n",
       "    .dataframe tbody tr th:only-of-type {\n",
       "        vertical-align: middle;\n",
       "    }\n",
       "\n",
       "    .dataframe tbody tr th {\n",
       "        vertical-align: top;\n",
       "    }\n",
       "\n",
       "    .dataframe thead th {\n",
       "        text-align: right;\n",
       "    }\n",
       "</style>\n",
       "<table border=\"1\" class=\"dataframe\">\n",
       "  <thead>\n",
       "    <tr style=\"text-align: right;\">\n",
       "      <th></th>\n",
       "      <th>country</th>\n",
       "      <th>description</th>\n",
       "      <th>points</th>\n",
       "      <th>price</th>\n",
       "      <th>variety</th>\n",
       "      <th>winery</th>\n",
       "    </tr>\n",
       "  </thead>\n",
       "  <tbody>\n",
       "    <tr>\n",
       "      <th>0</th>\n",
       "      <td>Italy</td>\n",
       "      <td>Aromas include tropical fruit, broom, brimston...</td>\n",
       "      <td>87</td>\n",
       "      <td>NaN</td>\n",
       "      <td>White Blend</td>\n",
       "      <td>Nicosia</td>\n",
       "    </tr>\n",
       "    <tr>\n",
       "      <th>1</th>\n",
       "      <td>Portugal</td>\n",
       "      <td>This is ripe and fruity, a wine that is smooth...</td>\n",
       "      <td>87</td>\n",
       "      <td>15.0</td>\n",
       "      <td>Portuguese Red</td>\n",
       "      <td>Quinta dos Avidagos</td>\n",
       "    </tr>\n",
       "    <tr>\n",
       "      <th>2</th>\n",
       "      <td>US</td>\n",
       "      <td>Tart and snappy, the flavors of lime flesh and...</td>\n",
       "      <td>87</td>\n",
       "      <td>14.0</td>\n",
       "      <td>Pinot Gris</td>\n",
       "      <td>Rainstorm</td>\n",
       "    </tr>\n",
       "    <tr>\n",
       "      <th>3</th>\n",
       "      <td>US</td>\n",
       "      <td>Pineapple rind, lemon pith and orange blossom ...</td>\n",
       "      <td>87</td>\n",
       "      <td>13.0</td>\n",
       "      <td>Riesling</td>\n",
       "      <td>St. Julian</td>\n",
       "    </tr>\n",
       "    <tr>\n",
       "      <th>4</th>\n",
       "      <td>US</td>\n",
       "      <td>Much like the regular bottling from 2012, this...</td>\n",
       "      <td>87</td>\n",
       "      <td>65.0</td>\n",
       "      <td>Pinot Noir</td>\n",
       "      <td>Sweet Cheeks</td>\n",
       "    </tr>\n",
       "  </tbody>\n",
       "</table>\n",
       "</div>"
      ],
      "text/plain": [
       "    country                                        description  points  price  \\\n",
       "0     Italy  Aromas include tropical fruit, broom, brimston...      87    NaN   \n",
       "1  Portugal  This is ripe and fruity, a wine that is smooth...      87   15.0   \n",
       "2        US  Tart and snappy, the flavors of lime flesh and...      87   14.0   \n",
       "3        US  Pineapple rind, lemon pith and orange blossom ...      87   13.0   \n",
       "4        US  Much like the regular bottling from 2012, this...      87   65.0   \n",
       "\n",
       "          variety               winery  \n",
       "0     White Blend              Nicosia  \n",
       "1  Portuguese Red  Quinta dos Avidagos  \n",
       "2      Pinot Gris            Rainstorm  \n",
       "3        Riesling           St. Julian  \n",
       "4      Pinot Noir         Sweet Cheeks  "
      ]
     },
     "execution_count": 7,
     "metadata": {},
     "output_type": "execute_result"
    }
   ],
   "source": [
    "df.head()\n"
   ]
  },
  {
   "cell_type": "code",
   "execution_count": 8,
   "metadata": {},
   "outputs": [],
   "source": [
    "# Menghapus baris yang memiliki nilai kosong (NaN) di kolom \"description\" dan \"points\" dari DataFrame df\n",
    "df = df.dropna(subset=[\"description\", \"points\"])\n"
   ]
  },
  {
   "cell_type": "code",
   "execution_count": 9,
   "metadata": {},
   "outputs": [
    {
     "data": {
      "image/png": "[encoded data removed]",
      "text/plain": [
       "<Figure size 640x480 with 1 Axes>"
      ]
     },
     "metadata": {},
     "output_type": "display_data"
    }
   ],
   "source": [
    "# Membuat histogram menggunakan matplotlib untuk kolom 'points' dari DataFrame df\n",
    "# dengan membaginya ke dalam 20 bins\n",
    "plt.hist(df.points, bins=20)\n",
    "\n",
    "# Menambahkan judul ke dalam histogram\n",
    "plt.title(\"Points histogram\")\n",
    "\n",
    "# Memberikan label pada sumbu-y\n",
    "plt.ylabel(\"N\")\n",
    "\n",
    "# Memberikan label pada sumbu-x\n",
    "plt.xlabel(\"Points\")\n",
    "\n",
    "# Menampilkan histogram\n",
    "plt.show()\n"
   ]
  },
  {
   "cell_type": "code",
   "execution_count": 10,
   "metadata": {},
   "outputs": [],
   "source": [
    "# Menambahkan kolom 'label' ke dalam DataFrame df dengan menggunakan kondisi\n",
    "# Jika nilai kolom 'points' >= 90, maka 'label' akan bernilai 1 (True), jika tidak, akan bernilai 0 (False)\n",
    "df[\"label\"] = (df.points >= 90).astype(int)\n",
    "\n",
    "# Memilih hanya kolom 'description' dan 'label' dari DataFrame df\n",
    "df = df[[\"description\", \"label\"]]"
   ]
  },
  {
   "cell_type": "code",
   "execution_count": 11,
   "metadata": {},
   "outputs": [
    {
     "name": "stderr",
     "output_type": "stream",
     "text": [
      "/home/prehsiat/Documents/Tugas-2-Kecerdasan-Artifisial-21081070100600/env/lib/python3.10/site-packages/numpy/core/fromnumeric.py:59: FutureWarning: 'DataFrame.swapaxes' is deprecated and will be removed in a future version. Please use 'DataFrame.transpose' instead.\n",
      "  return bound(*args, **kwds)\n"
     ]
    }
   ],
   "source": [
    "# Memisahkan DataFrame 'df' menjadi tiga bagian: data latih (train), validasi (val), dan pengujian (test)\n",
    "# df.sample(frac=1) mengacak urutan baris dalam DataFrame sebelum pembagian\n",
    "\n",
    "# Pembagian dilakukan dengan proporsi:\n",
    "# 80% data untuk pelatihan (train)\n",
    "# 10% data untuk validasi (val)\n",
    "# 10% data untuk pengujian (test)\n",
    "train, val, test = np.split(df.sample(frac=1), [int(0.8*len(df)), int(0.9*len(df))])\n"
   ]
  },
  {
   "cell_type": "code",
   "execution_count": 12,
   "metadata": {},
   "outputs": [],
   "source": [
    "def df_to_dataset(dataframe, shuffle=True, batch_size=1024):\n",
    "  # Salin DataFrame agar tidak mengubah DataFrame asli\n",
    "  df = dataframe.copy()\n",
    "\n",
    "  # Ambil kolom 'label' sebagai target variabel yang akan diprediksi\n",
    "  labels = df.pop('label')\n",
    "\n",
    "  # Hanya ambil kolom 'description' sebagai fitur input\n",
    "  df = df[\"description\"]\n",
    "\n",
    "  # Buat dataset dari fitur dan label menggunakan tf.data.Dataset.from_tensor_slices\n",
    "  ds = tf.data.Dataset.from_tensor_slices((df, labels))\n",
    "\n",
    "  # Jika shuffle=True, acak dataset\n",
    "  if shuffle:\n",
    "    ds = ds.shuffle(buffer_size=len(dataframe))\n",
    "\n",
    "  # Kelompokkan data menjadi batch berukuran batch_size\n",
    "  ds = ds.batch(batch_size)\n",
    "\n",
    "  # Menggunakan prefetch untuk memastikan data siap sedia saat pelatihan\n",
    "  ds = ds.prefetch(tf.data.AUTOTUNE)\n",
    "\n",
    "  # Kembalikan dataset yang telah dibuat\n",
    "  return ds\n"
   ]
  },
  {
   "cell_type": "code",
   "execution_count": 13,
   "metadata": {},
   "outputs": [],
   "source": [
    "# Membuat dataset untuk data pelatihan (train), validasi (val), dan pengujian (test)\n",
    "train_data = df_to_dataset(train)  # Dataset untuk data pelatihan\n",
    "valid_data = df_to_dataset(val)    # Dataset untuk data validasi\n",
    "test_data = df_to_dataset(test)    # Dataset untuk data pengujian"
   ]
  },
  {
   "cell_type": "markdown",
   "metadata": {},
   "source": [
    "#Embedding + Model"
   ]
  },
  {
   "cell_type": "code",
   "execution_count": 15,
   "metadata": {},
   "outputs": [
    {
     "name": "stderr",
     "output_type": "stream",
     "text": [
      "2023-11-26 16:12:25.057498: W external/local_tsl/tsl/framework/cpu_allocator_impl.cc:83] Allocation of 192762400 exceeds 10% of free system memory.\n"
     ]
    }
   ],
   "source": [
    "# URL untuk model embedding yang digunakan dari TensorFlow Hub\n",
    "embedding = \"https://tfhub.dev/google/nnlm-en-dim50/2\"\n",
    "\n",
    "# Membuat layer menggunakan KerasLayer dari TensorFlow Hub\n",
    "# Menggunakan URL embedding yang telah disebutkan, dengan tipe data tf.string\n",
    "# Trainable=True memungkinkan pembelajaran embedding untuk disesuaikan dengan data saat pelatihan\n",
    "hub_layer = hub.KerasLayer(embedding, dtype=tf.string, trainable=True)\n"
   ]
  },
  {
   "cell_type": "code",
   "execution_count": 16,
   "metadata": {},
   "outputs": [],
   "source": [
    "# Membuat model Sequential dari TensorFlow Keras\n",
    "model = tf.keras.Sequential()\n",
    "\n",
    "# Menambahkan layer embedding yang sudah dipersiapkan sebelumnya dari TensorFlow Hub\n",
    "model.add(hub_layer)\n",
    "\n",
    "# Menambahkan layer Dense (fully connected) dengan 16 unit neuron dan fungsi aktivasi ReLU\n",
    "model.add(tf.keras.layers.Dense(16, activation='relu'))\n",
    "\n",
    "# Menambahkan layer Dropout untuk mengurangi overfitting dengan tingkat dropout 40%\n",
    "model.add(tf.keras.layers.Dropout(0.4))\n",
    "\n",
    "# Menambahkan layer Dense kedua dengan 16 unit neuron dan fungsi aktivasi ReLU\n",
    "model.add(tf.keras.layers.Dense(16, activation='relu'))\n",
    "\n",
    "# Menambahkan layer Dropout kedua dengan tingkat dropout 40%\n",
    "model.add(tf.keras.layers.Dropout(0.4))\n",
    "\n",
    "# Layer output dengan satu unit neuron dan fungsi aktivasi sigmoid untuk klasifikasi biner\n",
    "model.add(tf.keras.layers.Dense(1, activation='sigmoid'))\n"
   ]
  },
  {
   "cell_type": "code",
   "execution_count": 17,
   "metadata": {},
   "outputs": [],
   "source": [
    "# Mengompilasi model menggunakan optimizer, fungsi loss, dan metrik yang spesifik\n",
    "model.compile(\n",
    "    optimizer=tf.keras.optimizers.Adam(learning_rate=0.001),  # Optimizer Adam dengan learning rate 0.001\n",
    "    loss=tf.keras.losses.BinaryCrossentropy(),  # Fungsi loss Binary Crossentropy untuk masalah klasifikasi biner\n",
    "    metrics=['accuracy']  # Metrik evaluasi yang dihitung selama pelatihan: akurasi\n",
    ")\n"
   ]
  },
  {
   "cell_type": "code",
   "execution_count": 30,
   "metadata": {},
   "outputs": [
    {
     "name": "stdout",
     "output_type": "stream",
     "text": [
      "Layer 0 weights shape: (963812, 50)\n",
      "[[-0.07078403  0.2309921  -0.04001201 ...  0.006042    0.01584901\n",
      "  -0.23308909]\n",
      " [ 0.13103518  0.17923635  0.01063039 ... -0.29381433  0.05539819\n",
      "   0.05226879]\n",
      " [ 0.06475412 -0.12864912 -0.12485643 ... -0.16776969  0.07435564\n",
      "   0.19124678]\n",
      " ...\n",
      " [ 0.48517743 -0.16456567 -0.19928716 ... -0.09391955  0.1083921\n",
      "   0.3172544 ]\n",
      " [ 0.48158506  0.02888033 -0.20843051 ... -0.11927761  0.08496244\n",
      "   0.23432662]\n",
      " [ 0.37704384 -0.0066712   0.11264061 ...  0.24884935 -0.17588355\n",
      "   0.22643645]]\n",
      "Layer 1 weights shape: (50, 16)\n",
      "[[-1.71584010e-01 -8.49876925e-02 -1.85689479e-01  2.34167501e-01\n",
      "   1.19630598e-01  2.24454910e-01  4.57398705e-02  5.64483404e-02\n",
      "  -3.48683000e-02 -3.47300798e-01  8.00636932e-02  4.36419584e-02\n",
      "  -1.58305258e-01 -2.24628836e-01 -3.18892032e-01  1.93553746e-01]\n",
      " [-1.28763303e-01 -4.50776368e-02 -2.52443198e-02  8.57409835e-02\n",
      "   2.13491060e-02  6.88560959e-03  6.85140863e-02  5.79714887e-02\n",
      "   2.03373760e-01  2.60640055e-01 -2.79547274e-02  2.49373183e-01\n",
      "  -1.56662181e-01  2.48244461e-02  4.82649170e-02  1.78636447e-01]\n",
      " [ 3.71021897e-01  2.89272100e-01  3.34285915e-01 -3.56396645e-01\n",
      "  -3.68770719e-01 -2.19293654e-01 -3.01211298e-01  1.65212546e-02\n",
      "  -1.75251886e-01  1.57016367e-01 -2.01459020e-01 -1.75475687e-01\n",
      "  -2.31190789e-02 -8.69499296e-02  1.60374746e-01 -2.67487675e-01]\n",
      " [ 3.17737311e-01  3.95909309e-01  2.66340852e-01 -1.30182439e-02\n",
      "   1.95432156e-01 -1.16577275e-01  1.79258168e-01 -1.25338793e-01\n",
      "  -2.25839704e-01  2.67601848e-01  1.34834155e-01  7.44870603e-02\n",
      "  -1.36628762e-01  7.53007233e-02 -1.79854199e-01 -7.09017739e-02]\n",
      " [ 3.82470265e-02 -2.18906552e-01 -2.05634356e-01 -5.89595065e-02\n",
      "   9.52934399e-02 -6.15547001e-02 -6.05678894e-02 -3.36365178e-02\n",
      "   2.40159899e-01 -5.81449792e-02  2.44487375e-01 -2.08788618e-01\n",
      "   1.87431559e-01 -2.83911914e-01  1.60704106e-01  1.06851570e-01]\n",
      " [-1.37232691e-01  6.75909370e-02 -9.81142521e-02  1.76852182e-01\n",
      "   1.82172284e-02  2.41814911e-01  3.09777319e-01  3.31854045e-01\n",
      "   2.04410046e-01 -2.44537398e-01  2.17381135e-01 -2.03202805e-03\n",
      "   1.61464989e-01  6.65034503e-02  1.72922090e-01  1.55721411e-01]\n",
      " [-1.23368740e-01 -5.31851798e-02  1.34184130e-03  8.39194953e-02\n",
      "  -2.52260715e-01 -2.30408028e-01 -2.98278123e-01  6.73971251e-02\n",
      "   3.83585058e-02 -2.34600063e-02 -3.12521696e-01 -2.33013406e-01\n",
      "   1.31681070e-01 -3.60063314e-02  1.49649069e-01 -2.25974858e-01]\n",
      " [ 1.24155492e-01  1.24763228e-01  1.70319557e-01  1.43272340e-01\n",
      "  -3.04094344e-01 -8.78611207e-02 -3.56409371e-01  2.68128440e-02\n",
      "  -1.34795690e-02  1.79525346e-01 -3.27450007e-01 -2.94191182e-01\n",
      "  -1.02644980e-01  9.65021402e-02 -8.54145736e-02 -1.83542415e-01]\n",
      " [ 3.24027836e-01 -2.15145051e-01  6.41852841e-02  2.29867846e-01\n",
      "  -4.89232838e-02  2.74709202e-02 -2.12958381e-01  1.40185952e-01\n",
      "   1.57320216e-01 -2.51718044e-01 -4.01271787e-03  4.84551378e-02\n",
      "  -5.28422045e-03 -1.58071697e-01  5.94585203e-02 -8.41599554e-02]\n",
      " [ 1.28210053e-01  2.78234452e-01 -7.58370534e-02  6.60238340e-02\n",
      "  -1.35423169e-02 -8.02217573e-02 -7.05094188e-02 -1.62102133e-02\n",
      "  -2.59532869e-01 -5.73315751e-03 -1.04303494e-01  5.74075654e-02\n",
      "  -1.66397408e-01 -1.94990754e-01 -6.71251416e-02 -1.06856234e-01]\n",
      " [-3.00229549e-01 -1.31560504e-01 -3.16521019e-01  2.24238485e-01\n",
      "   2.27287784e-01  1.41374871e-01  2.98344065e-02 -9.94459093e-02\n",
      "   9.36153904e-02 -2.61468738e-01 -6.84879199e-02  2.13613704e-01\n",
      "   2.08362304e-02 -1.43730864e-01  2.16673926e-01  1.62579075e-01]\n",
      " [-2.14949101e-01 -2.71650642e-01 -4.22259867e-01 -1.12034582e-01\n",
      "   3.31144370e-02  1.08162034e-02 -6.75321072e-02 -1.09651923e-01\n",
      "   2.05882564e-01 -4.56077635e-01  1.84485972e-01  1.22519791e-01\n",
      "   1.12361215e-01 -4.82518435e-01 -2.24612534e-01 -2.18307115e-02]\n",
      " [-2.29855806e-01 -6.83377311e-02 -3.43429506e-01  3.32570747e-02\n",
      "   1.69430554e-01  5.91272712e-02  2.88914323e-01  1.82880193e-01\n",
      "  -6.15684763e-02 -2.39104107e-01  3.21410477e-01  2.91695207e-01\n",
      "  -2.25678295e-01 -3.84925187e-01 -1.10528462e-01  3.05805445e-01]\n",
      " [ 8.42889678e-03  2.63062298e-01  3.33790742e-02  1.75586984e-01\n",
      "  -1.22654043e-01 -1.36337787e-01 -1.32304683e-01 -1.15107603e-01\n",
      "  -2.67557740e-01  2.94646859e-01 -2.93461531e-01 -3.61893475e-02\n",
      "  -1.76081866e-01  8.51371214e-02  9.83446538e-02 -2.32023075e-01]\n",
      " [-2.37489119e-02 -3.22855040e-02 -3.29136364e-02  9.65348333e-02\n",
      "   2.89953500e-01  1.68611929e-01 -5.90982325e-02 -3.24551910e-02\n",
      "  -1.51423946e-01 -2.84465581e-01  1.29560416e-03  4.67283651e-02\n",
      "   1.09794177e-01 -2.61937678e-01  3.91391863e-04  1.09741747e-01]\n",
      " [-3.04505378e-01  1.90769449e-01 -2.82156020e-01  4.29301113e-02\n",
      "  -7.41126239e-02 -1.34051874e-01  1.30204797e-01 -1.31358150e-02\n",
      "  -2.45992914e-01 -3.21437478e-01 -2.06829518e-01  9.68760550e-02\n",
      "   8.77119824e-02  5.78147806e-02  1.03387237e-01 -7.08255023e-02]\n",
      " [-1.07933812e-01 -5.00333719e-02 -1.46996155e-02  1.57624781e-01\n",
      "   4.68676984e-02 -1.14052549e-01  1.98696166e-01  1.75752863e-01\n",
      "   3.22314608e-03  2.91374885e-02  1.84826076e-01  2.83823133e-01\n",
      "  -2.06186958e-02 -2.96486497e-01 -2.37735197e-01  3.20265025e-01]\n",
      " [ 2.28099212e-01  1.28109694e-01  2.13918835e-01 -1.70437291e-01\n",
      "  -2.81666756e-01 -1.41396910e-01 -1.26828969e-01 -1.07404143e-01\n",
      "  -1.19457208e-01  2.51667231e-01 -2.01232359e-01 -3.01584005e-01\n",
      "   2.39199221e-01  1.51173264e-01  5.70163801e-02 -1.00405619e-01]\n",
      " [ 3.98081690e-01  3.60101819e-01  6.41954914e-02 -1.56090260e-01\n",
      "  -8.15761685e-02 -1.99490905e-01  6.43841848e-02 -1.84174716e-01\n",
      "  -1.94830880e-01  1.50609314e-01  7.95343816e-02 -2.34959841e-01\n",
      "  -7.30675310e-02 -3.50770056e-02  1.93279341e-01  1.96860671e-01]\n",
      " [-3.74926403e-02  1.39308244e-01 -8.93377811e-02  4.12129574e-02\n",
      "   1.68466743e-03 -1.13377951e-01  1.78884506e-01 -2.90497303e-01\n",
      "  -1.86567932e-01 -1.63790181e-01 -2.06870541e-01  1.49646848e-01\n",
      "   2.94300914e-01 -2.84447938e-01 -1.28029073e-02 -1.08372889e-01]\n",
      " [-7.44312704e-02 -2.04726264e-01  4.84580845e-02  3.12307447e-01\n",
      "   3.44165415e-01  6.54771104e-02  3.79736543e-01  2.27742821e-01\n",
      "   3.28406006e-01 -2.40662247e-01  1.33483127e-01  3.32968533e-01\n",
      "   2.04353794e-01  2.94287354e-02 -5.83719090e-02  3.69833201e-01]\n",
      " [-3.57371569e-01 -2.25263402e-01 -2.67528564e-01 -2.62827694e-01\n",
      "  -1.52726248e-01  8.59178081e-02 -2.84007192e-01  1.26141608e-01\n",
      "  -6.25631660e-02 -1.23174667e-01 -2.46247754e-01 -2.09180012e-01\n",
      "   2.67520607e-01 -2.08514184e-01 -2.06984907e-01 -2.07285687e-01]\n",
      " [ 2.99112946e-01  1.43730357e-01  1.30188270e-02 -2.08021700e-01\n",
      "  -2.91723371e-01 -1.64411992e-01 -4.60890355e-03 -1.47315294e-01\n",
      "  -1.07003460e-02 -1.62539601e-01 -1.98118031e-01 -1.18073083e-01\n",
      "  -2.13125199e-01 -1.24074154e-01 -1.38957143e-01 -2.87223607e-01]\n",
      " [-2.14449912e-01 -4.94095124e-02 -4.86600548e-02  1.60251960e-01\n",
      "   2.34995469e-01  5.04098348e-02 -9.10452679e-02  2.43579559e-02\n",
      "   1.53599456e-01 -2.31631055e-01 -1.10100888e-01  7.95765370e-02\n",
      "   2.41377920e-01 -1.75760731e-01  1.29407436e-01  2.98123837e-01]\n",
      " [-1.64661855e-01 -1.91758517e-02  2.32859582e-01  3.04478705e-01\n",
      "   1.07763626e-01  2.72385001e-01  1.55703783e-01 -7.18249381e-02\n",
      "   1.97555080e-01  2.77669579e-01  2.45921418e-01 -7.81404302e-02\n",
      "   3.00047904e-01  2.01326057e-01  2.02327818e-01  3.30187261e-01]\n",
      " [ 3.88755649e-01  1.60174116e-01  4.38585766e-02 -3.32590014e-01\n",
      "  -2.61714041e-01 -2.02133209e-01 -2.18578026e-01 -3.00747037e-01\n",
      "  -3.43944818e-01  1.66137248e-01 -1.48949713e-01 -2.02309474e-01\n",
      "  -1.85103774e-01  8.54719207e-02 -2.44061828e-01  3.64405550e-02]\n",
      " [-3.59370828e-01 -3.88478488e-01 -3.83854985e-01  2.47311532e-01\n",
      "   1.32385092e-02  2.31063232e-01  1.64863095e-01  2.56918788e-01\n",
      "   3.91237527e-01 -4.40278560e-01  5.63933328e-02  1.79268658e-01\n",
      "   1.51322454e-01 -4.24004465e-01 -2.07843527e-01  3.27549726e-01]\n",
      " [-8.70450959e-03 -2.60709580e-02 -1.90115929e-01  2.39002302e-01\n",
      "   2.46350393e-01  4.74513397e-02  7.24340007e-02  6.82911128e-02\n",
      "  -6.11463524e-02 -3.02628934e-01  3.11443239e-01 -9.22516137e-02\n",
      "  -6.49987161e-02 -7.09004551e-02 -2.15574965e-01  9.61429849e-02]\n",
      " [-4.45921123e-01  3.71803790e-02 -1.70639962e-01  1.84763625e-01\n",
      "   1.35492891e-01  1.14038818e-01  1.29329354e-01  2.27942899e-01\n",
      "   3.74597460e-01 -7.84352422e-02  2.89591491e-01  1.24865010e-01\n",
      "  -1.32555282e-02 -2.49063432e-01 -1.92045063e-01  4.62998897e-01]\n",
      " [ 2.54455566e-01  2.51669019e-01  3.78812164e-01  2.56876852e-02\n",
      "  -2.04964340e-01 -2.65218526e-01 -2.88514256e-01 -2.57318094e-02\n",
      "  -1.33683428e-01  2.75570512e-01  4.35156114e-02 -1.99440047e-01\n",
      "   2.92384833e-01  5.59304096e-02 -1.97774023e-02  4.34302352e-02]\n",
      " [ 3.20021063e-01  2.14886039e-01  3.63154531e-01 -1.88996121e-01\n",
      "  -1.12658949e-03  1.45044699e-01 -1.16550915e-01 -3.91224362e-02\n",
      "   7.20724389e-02  1.19900689e-01  8.28302652e-02  3.11998725e-02\n",
      "   1.78745389e-01  1.97726309e-01 -4.53887954e-02 -1.38808489e-01]\n",
      " [-2.64478236e-01 -1.92573577e-01 -5.75862639e-02 -3.82165574e-02\n",
      "   4.73371074e-02  2.73311466e-01  1.29555032e-01  1.39059156e-01\n",
      "   2.04430208e-01 -2.22501248e-01  2.33732328e-01  1.87915191e-01\n",
      "  -3.31479274e-02 -2.16546968e-01 -1.39596667e-02 -1.82661027e-01]\n",
      " [-7.18002617e-02 -2.52959132e-01 -1.93233579e-01  7.99750462e-02\n",
      "   2.65321344e-01  6.84308112e-02  9.66099575e-02  2.94849515e-01\n",
      "   1.93869054e-01 -3.23383272e-01 -5.26121557e-02 -9.40281227e-02\n",
      "   5.04672853e-03 -2.12012142e-01 -7.43926615e-02  2.77905554e-01]\n",
      " [ 2.24302351e-01  3.14853847e-01 -5.11809215e-02 -1.63288385e-01\n",
      "  -1.08517528e-01 -1.17468983e-01 -1.65124878e-01 -9.47581679e-02\n",
      "  -8.66392404e-02 -8.24915338e-03 -6.43516798e-03  4.08372693e-02\n",
      "   1.93070203e-01 -1.68522149e-01  1.35038555e-01 -2.16312289e-01]\n",
      " [ 2.85545260e-01  1.68191642e-01  3.03554714e-01  2.26878598e-02\n",
      "  -3.34958844e-02 -7.95396790e-02 -1.63612008e-01 -2.16607228e-01\n",
      "  -2.25484282e-01  4.33385000e-02 -3.36082131e-01 -2.65501916e-01\n",
      "  -1.52000993e-01  1.73768044e-01 -2.00286552e-01  2.78739724e-02]\n",
      " [-1.24503650e-01 -2.88109452e-01  5.86382113e-03  2.36447409e-01\n",
      "  -9.59357060e-03  4.54095639e-02  7.35870823e-02  2.39123911e-01\n",
      "   2.14152008e-01 -2.43343338e-01  2.92512178e-01  2.83265501e-01\n",
      "  -1.89060614e-01 -1.10534661e-01 -2.21720666e-01  2.39378154e-01]\n",
      " [ 3.03391039e-01  1.82015046e-01  1.82939529e-01 -2.87925363e-01\n",
      "  -2.25534633e-01 -2.17161551e-01 -2.13268787e-01 -1.89881176e-02\n",
      "  -8.12731832e-02  1.62879705e-01 -6.27192482e-02 -2.51244903e-01\n",
      "   3.36956158e-02  1.22423902e-01  2.47479160e-03 -8.43892395e-02]\n",
      " [ 1.26962131e-02 -3.29869449e-01 -3.77287328e-01  1.96334094e-01\n",
      "  -4.84682806e-02  1.66577563e-01  2.58562475e-01 -2.08587572e-02\n",
      "   1.27628118e-01 -2.08720893e-01  2.80113854e-02  4.71864976e-02\n",
      "  -2.05239296e-01 -4.00812656e-01  4.57121432e-02 -5.66646792e-02]\n",
      " [-1.35726914e-01 -2.20174029e-01 -3.68059874e-01  2.70946097e-04\n",
      "   2.24454194e-01  1.39320850e-01  9.16906744e-02  1.08986966e-01\n",
      "  -1.51226357e-01 -2.39588559e-01  2.49628909e-02  2.22970471e-01\n",
      "   2.00690031e-01 -4.48796749e-01  1.84496179e-01 -1.89068884e-01]\n",
      " [ 2.04025954e-01 -2.55283207e-01 -5.70299067e-02  5.46197928e-02\n",
      "   2.82224864e-01 -6.91147745e-02  1.29904240e-01 -7.97107294e-02\n",
      "  -1.99197859e-01  2.66388487e-02  1.27614200e-01 -1.41368555e-02\n",
      "   1.34330601e-01  1.33636773e-01  2.20793545e-01  7.12877214e-02]\n",
      " [-1.64124905e-03 -1.81462541e-01  6.41651824e-02 -4.31132652e-02\n",
      "  -2.61154503e-01 -3.01599085e-01 -2.15560824e-01 -8.64447951e-02\n",
      "  -2.25040555e-01 -2.33469844e-01 -1.18841179e-01 -4.58179951e-01\n",
      "  -1.30488515e-01 -4.90879081e-02  1.42595470e-01 -2.95452941e-02]\n",
      " [-1.39586097e-02  2.55435377e-01  3.69332761e-01 -2.75976092e-01\n",
      "  -1.49459645e-01 -1.35456532e-01 -1.75691485e-01 -2.00773031e-01\n",
      "  -5.26136085e-02  1.12777330e-01 -1.77445576e-01  1.05979010e-01\n",
      "   2.04046592e-01  9.12500247e-02  4.27714065e-02  1.86469946e-02]\n",
      " [ 4.91430573e-02 -4.38484587e-02 -9.80535373e-02 -3.24872732e-01\n",
      "  -1.43761411e-01 -1.46107703e-01 -1.81269825e-01 -3.06190282e-01\n",
      "  -4.25632149e-01 -1.77244455e-01 -2.98878610e-01 -7.81504586e-02\n",
      "   1.42253876e-01  1.34628862e-01 -8.30117315e-02 -2.12044820e-01]\n",
      " [-3.69181722e-01 -1.26306355e-01 -3.76596540e-01  3.99678171e-01\n",
      "   3.39762479e-01  1.66254520e-01  2.78671175e-01  2.95899883e-02\n",
      "   6.72302246e-02 -2.56322861e-01  2.92717386e-02  1.07989863e-01\n",
      "   2.95723796e-01 -4.16834429e-02 -1.69585139e-01  3.44003052e-01]\n",
      " [-6.40766546e-02  3.12633574e-01  3.19627285e-01 -1.72693029e-01\n",
      "  -1.76888719e-01 -3.38869877e-02 -2.37728596e-01 -1.72558546e-01\n",
      "  -3.84401053e-01  3.33567023e-01 -2.43524894e-01 -3.24181437e-01\n",
      "  -1.00711241e-01  2.64336944e-01 -1.15019195e-01 -1.44401655e-01]\n",
      " [ 1.97938681e-01  2.21534103e-01  1.15781032e-01 -3.20983469e-01\n",
      "  -1.44378364e-01 -2.92171627e-01 -1.60699010e-01 -2.32134670e-01\n",
      "  -1.93778366e-01  3.47452641e-01 -1.87952697e-01 -2.84193605e-01\n",
      "   8.97124410e-02  1.25444904e-01 -4.43676263e-02 -1.23245426e-01]\n",
      " [-5.38639963e-01 -5.02000928e-01 -3.62956792e-01 -7.40758479e-02\n",
      "  -2.21822094e-02 -2.91360114e-02 -9.84040201e-02 -7.04076663e-02\n",
      "  -1.64321885e-01 -4.22617167e-01 -9.44288373e-02 -1.72775194e-01\n",
      "  -1.11875050e-02 -5.74108362e-01 -2.46126264e-01 -1.64351791e-01]\n",
      " [ 4.38155591e-01  4.88066375e-01  1.91816613e-01 -2.73138970e-01\n",
      "  -4.15919274e-02 -1.58924907e-01 -2.78905891e-02 -1.09285722e-02\n",
      "  -4.09084447e-02 -1.00662261e-02 -2.76212543e-01  7.65238255e-02\n",
      "   1.66958913e-01  2.67221510e-01  2.56493658e-01 -1.31310016e-01]\n",
      " [-2.09420860e-01 -1.10148072e-01 -3.65986973e-01  2.43051380e-01\n",
      "   3.13238204e-01  2.88247615e-02  1.81805134e-01  3.07717472e-01\n",
      "   7.31540248e-02 -2.33822569e-01  4.15127665e-01  4.75488976e-02\n",
      "  -1.65905256e-03 -3.80706698e-01  2.25997433e-01  4.28595871e-01]\n",
      " [ 6.08207798e-03 -2.62742102e-01  2.79789306e-02  2.68678904e-01\n",
      "   9.45822671e-02  1.74379423e-01  3.40765029e-01  2.46242136e-01\n",
      "   3.66206765e-01  1.17958203e-01  8.33010226e-02  3.05656105e-01\n",
      "  -4.30316404e-02 -1.08665943e-01  2.20574349e-01  2.38107115e-01]]\n",
      "Layer 2 weights shape: (16,)\n",
      "[ 0.22776544  0.21541221  0.24232104 -0.30276677 -0.27274993 -0.29516488\n",
      " -0.2790187  -0.2956516  -0.28781754  0.24457693 -0.2732654  -0.2755695\n",
      " -0.00189078  0.2443676  -0.04710934 -0.28327882]\n",
      "Layer 3 weights shape: (16, 16)\n",
      "[[ 0.3603422   0.09008671  0.41396746 -0.4505758   0.4564528  -0.293236\n",
      "  -0.09891667  0.31494823  0.45388934  0.22967695 -0.11553232  0.1571198\n",
      "   0.5280142   0.45768294 -0.04850814  0.40533933]\n",
      " [ 0.4993778   0.70499426  0.26775667 -0.37504792  0.03639933 -0.5522915\n",
      "  -0.10431148  0.6093381   0.03915842  0.5093347  -0.2853065   0.28627267\n",
      "   0.5551589   0.6718486  -0.43883875  0.28771466]\n",
      " [ 0.34422806  0.65074396  0.65336895 -0.24690925  0.09306752 -0.4891832\n",
      "  -0.57847166  0.4647211   0.58389795  0.2460203  -0.29882365  0.4303406\n",
      "   0.20121965  0.24944331 -0.08017591  0.6695663 ]\n",
      " [-0.16568328 -0.35897055 -0.5091114   0.2439923  -0.42772555  0.28861624\n",
      "   0.44865617 -0.34198406 -0.52789533 -0.35424933  0.38392037 -0.04918044\n",
      "  -0.37888855 -0.27176183  0.3853968  -0.5938503 ]\n",
      " [-0.3192293  -0.21505696 -0.55747306  0.6413852  -0.20165129  0.4488136\n",
      "   0.27534524 -0.30756196 -0.3841544  -0.16890587  0.29243553 -0.5734536\n",
      "  -0.3286283  -0.37497753  0.223269   -0.49508184]\n",
      " [-0.35547924 -0.3934129  -0.16391389  0.391132   -0.24846938 -0.04153116\n",
      "   0.38006926 -0.14267753 -0.02275124 -0.4096625   0.39786032 -0.49365747\n",
      "  -0.27056676 -0.13763331  0.12653765 -0.5939353 ]\n",
      " [-0.29589617 -0.47665253 -0.5464284   0.6388297  -0.42507756  0.61759573\n",
      "   0.5727459  -0.37419778 -0.54409647 -0.40597898  0.6023354  -0.09458818\n",
      "  -0.2899946  -0.41843727  0.33409077 -0.17248547]\n",
      " [-0.4299619  -0.29891467 -0.45798203  0.58018804 -0.29755828  0.04233418\n",
      "   0.28796035 -0.30995348 -0.4183125  -0.42779964  0.37566307 -0.26940247\n",
      "  -0.21261415 -0.1724478   0.04459501 -0.4245128 ]\n",
      " [-0.4921406  -0.46436438 -0.08130935  0.1746441  -0.27004316  0.27247036\n",
      "   0.52671987 -0.25144675 -0.45200366 -0.19879206  0.45697594 -0.26710087\n",
      "  -0.28326482 -0.20096816  0.37348288 -0.54259926]\n",
      " [ 0.5628635   0.5654829   0.62406075 -0.71625596  0.5905407  -0.24962522\n",
      "  -0.2878269   0.23927858  0.51769125  0.18667063 -0.3954336   0.7016402\n",
      "   0.36082146  0.35798183 -0.4284851   0.49544013]\n",
      " [ 0.03335637 -0.3664867  -0.49860406  0.6832959  -0.25519568  0.615659\n",
      "   0.5883044  -0.02411696 -0.3679925  -0.40058717  0.38237438 -0.41521907\n",
      "  -0.26103535 -0.4212765   0.62323266 -0.11694155]\n",
      " [-0.30864614 -0.5145085  -0.26337433  0.5608403  -0.48863828  0.33353332\n",
      "   0.59331924 -0.22658834 -0.37471664 -0.45981452  0.44255495 -0.3042551\n",
      "  -0.40183502 -0.49037805  0.4963101  -0.1764869 ]\n",
      " [-0.04606602 -0.1245242  -0.38199157 -0.29642645 -0.04384933 -0.3227178\n",
      "  -0.06019545 -0.16265148 -0.14322896  0.24307308 -0.24485229 -0.03154316\n",
      "  -0.12509167  0.34423226 -0.12738591  0.3305166 ]\n",
      " [ 0.31882748  0.3158271   0.3908053  -0.6881458   0.41169676 -0.3028774\n",
      "  -0.6427256   0.5648223   0.45494264  0.576592   -0.04364186  0.43901673\n",
      "   0.48697612  1.0028852  -0.5961035   0.5661555 ]\n",
      " [-0.0659824  -0.1328055  -0.22894713 -0.4418882   0.20709246  0.17903629\n",
      "   0.39800084  0.29343233  0.11890925 -0.257983    0.36530036 -0.1567027\n",
      "   0.2511606  -0.24366957  0.3327636  -0.05869324]\n",
      " [-0.46271387 -0.42791313 -0.5962631   0.49358618 -0.18893602  0.538629\n",
      "   0.42147547 -0.22426811 -0.31064677 -0.00810498  0.5166087  -0.27612132\n",
      "  -0.18335459 -0.30154416  0.6710132  -0.07735056]]\n",
      "Layer 4 weights shape: (16,)\n",
      "[0.17033437 0.22621337 0.24121413 0.06129246 0.16887729 0.05849618\n",
      " 0.02917466 0.15402943 0.21268834 0.16578174 0.01191142 0.17255099\n",
      " 0.18433012 0.17595294 0.02541304 0.2008709 ]\n",
      "Layer 5 weights shape: (16, 1)\n",
      "[[-0.7270833 ]\n",
      " [-0.5862581 ]\n",
      " [-0.5694231 ]\n",
      " [ 0.49680686]\n",
      " [-0.9244017 ]\n",
      " [ 0.7117562 ]\n",
      " [ 0.5251572 ]\n",
      " [-0.67348856]\n",
      " [-0.669014  ]\n",
      " [-0.9000719 ]\n",
      " [ 0.5581429 ]\n",
      " [-0.7760915 ]\n",
      " [-0.6454475 ]\n",
      " [-0.6159769 ]\n",
      " [ 0.6671765 ]\n",
      " [-0.6021913 ]]\n",
      "Layer 6 weights shape: (1,)\n",
      "[0.15058382]\n"
     ]
    }
   ],
   "source": [
    "# Setelah melatih model\n",
    "weights = model.get_weights()\n",
    "\n",
    "# Menampilkan bobot untuk setiap layer\n",
    "for i, layer_weights in enumerate(weights):\n",
    "    print(f\"Layer {i} weights shape: {layer_weights.shape}\")\n",
    "    print(layer_weights)\n"
   ]
  },
  {
   "cell_type": "code",
   "execution_count": 31,
   "metadata": {},
   "outputs": [
    {
     "name": "stdout",
     "output_type": "stream",
     "text": [
      "Rata-rata weight dari Layer 0: 0.5000032905197664\n"
     ]
    }
   ],
   "source": [
    "# Contoh weight matrix untuk Layer 0 (dengan bentuk (963812, 50))\n",
    "# Simpan matrix weight Anda di sini\n",
    "weight_layer_0 = np.random.rand(963812, 50)  # Ganti dengan weight matrix Layer 0 yang sebenarnya\n",
    "\n",
    "# Hitung rata-rata dari weight matrix Layer 0\n",
    "average_weight_layer_0 = np.mean(weight_layer_0)\n",
    "print(\"Rata-rata weight dari Layer 0:\", average_weight_layer_0)\n"
   ]
  },
  {
   "cell_type": "code",
   "execution_count": 32,
   "metadata": {},
   "outputs": [
    {
     "name": "stdout",
     "output_type": "stream",
     "text": [
      "Rata-rata weight dari Layer 1: 0.5130223862893208\n"
     ]
    }
   ],
   "source": [
    "# Contoh weight matrix untuk Layer 1 (dengan bentuk (50, 16))\n",
    "# Simpan matrix weight Anda di sini\n",
    "weight_layer_1 = np.random.rand(50, 16)  # Ganti dengan weight matrix Layer 1 yang sebenarnya\n",
    "\n",
    "# Hitung rata-rata dari weight matrix Layer 1\n",
    "average_weight_layer_1 = np.mean(weight_layer_1)\n",
    "print(\"Rata-rata weight dari Layer 1:\", average_weight_layer_1)\n"
   ]
  },
  {
   "cell_type": "code",
   "execution_count": 20,
   "metadata": {},
   "outputs": [
    {
     "name": "stdout",
     "output_type": "stream",
     "text": [
      "Epoch 1/7\n"
     ]
    },
    {
     "name": "stdout",
     "output_type": "stream",
     "text": [
      "102/102 [==============================] - 61s 592ms/step - loss: 0.3180 - accuracy: 0.8679 - val_loss: 0.3779 - val_accuracy: 0.8314\n",
      "Epoch 2/7\n",
      "102/102 [==============================] - 61s 595ms/step - loss: 0.3022 - accuracy: 0.8759 - val_loss: 0.3837 - val_accuracy: 0.8342\n",
      "Epoch 3/7\n",
      "102/102 [==============================] - 61s 596ms/step - loss: 0.2890 - accuracy: 0.8835 - val_loss: 0.3917 - val_accuracy: 0.8324\n",
      "Epoch 4/7\n",
      "102/102 [==============================] - 61s 596ms/step - loss: 0.2764 - accuracy: 0.8898 - val_loss: 0.4039 - val_accuracy: 0.8300\n",
      "Epoch 5/7\n",
      "102/102 [==============================] - 61s 598ms/step - loss: 0.2659 - accuracy: 0.8940 - val_loss: 0.4114 - val_accuracy: 0.8325\n",
      "Epoch 6/7\n",
      "102/102 [==============================] - 61s 596ms/step - loss: 0.2538 - accuracy: 0.8993 - val_loss: 0.4257 - val_accuracy: 0.8309\n",
      "Epoch 7/7\n",
      "102/102 [==============================] - 61s 594ms/step - loss: 0.2445 - accuracy: 0.9034 - val_loss: 0.4451 - val_accuracy: 0.8325\n"
     ]
    }
   ],
   "source": [
    "# Melatih model dengan data latih (train_data) selama 5 epochs\n",
    "# Menggunakan data validasi (valid_data) untuk evaluasi setiap epoch\n",
    "# Callback TensorBoard digunakan untuk melacak performa model selama pelatihan\n",
    "history = model.fit(\n",
    "    train_data,  # Data latih\n",
    "    epochs=7,  # Jumlah epochs yang akan dilatih\n",
    "    validation_data=valid_data,  # Data validasi\n",
    "    callbacks=[tensorboard_callback]  # Callback untuk TensorBoard\n",
    ")\n"
   ]
  },
  {
   "cell_type": "code",
   "execution_count": 21,
   "metadata": {},
   "outputs": [
    {
     "name": "stdout",
     "output_type": "stream",
     "text": [
      "13/13 [==============================] - 1s 99ms/step - loss: 0.4475 - accuracy: 0.8286\n",
      "Loss: 0.4475235641002655\n",
      "Accuracy: 0.8285890221595764\n"
     ]
    }
   ],
   "source": [
    "# Melakukan evaluasi model menggunakan data pengujian (test_data)\n",
    "evaluation_results = model.evaluate(test_data)\n",
    "\n",
    "# Menampilkan nilai-nilai metrik evaluasi\n",
    "print(\"Loss:\", evaluation_results[0])  # Menampilkan nilai loss\n",
    "print(\"Accuracy:\", evaluation_results[1])  # Menampilkan nilai akurasi\n"
   ]
  },
  {
   "cell_type": "code",
   "execution_count": 22,
   "metadata": {},
   "outputs": [
    {
     "name": "stdout",
     "output_type": "stream",
     "text": [
      "dict_keys(['loss', 'accuracy', 'val_loss', 'val_accuracy'])\n"
     ]
    },
    {
     "data": {
      "image/png": "[encoded data removed]",
      "text/plain": [
       "<Figure size 640x480 with 1 Axes>"
      ]
     },
     "metadata": {},
     "output_type": "display_data"
    },
    {
     "data": {
      "image/png": "[encoded data removed]",
      "text/plain": [
       "<Figure size 640x480 with 1 Axes>"
      ]
     },
     "metadata": {},
     "output_type": "display_data"
    }
   ],
   "source": [
    "# Melihat metrik-metrik yang tersedia dari riwayat pelatihan\n",
    "print(history.history.keys())\n",
    "\n",
    "# Plot loss pada set pelatihan dan set validasi\n",
    "plt.plot(history.history['loss'], label='Training Loss')\n",
    "plt.plot(history.history['val_loss'], label='Validation Loss')\n",
    "plt.title('Training and Validation Loss')\n",
    "plt.xlabel('Epochs')\n",
    "plt.ylabel('Loss')\n",
    "plt.legend()\n",
    "plt.show()\n",
    "\n",
    "# Plot akurasi pada set pelatihan dan set validasi\n",
    "plt.plot(history.history['accuracy'], label='Training Accuracy')\n",
    "plt.plot(history.history['val_accuracy'], label='Validation Accuracy')\n",
    "plt.title('Training and Validation Accuracy')\n",
    "plt.xlabel('Epochs')\n",
    "plt.ylabel('Accuracy')\n",
    "plt.legend()\n",
    "plt.show()\n"
   ]
  },
  {
   "cell_type": "code",
   "execution_count": 23,
   "metadata": {},
   "outputs": [
    {
     "name": "stdout",
     "output_type": "stream",
     "text": [
      "Model: \"sequential\"\n",
      "_________________________________________________________________\n",
      " Layer (type)                Output Shape              Param #   \n",
      "=================================================================\n",
      " keras_layer (KerasLayer)    (None, 50)                48190600  \n",
      "                                                                 \n",
      " dense (Dense)               (None, 16)                816       \n",
      "                                                                 \n",
      " dropout (Dropout)           (None, 16)                0         \n",
      "                                                                 \n",
      " dense_1 (Dense)             (None, 16)                272       \n",
      "                                                                 \n",
      " dropout_1 (Dropout)         (None, 16)                0         \n",
      "                                                                 \n",
      " dense_2 (Dense)             (None, 1)                 17        \n",
      "                                                                 \n",
      "=================================================================\n",
      "Total params: 48191705 (183.84 MB)\n",
      "Trainable params: 48191705 (183.84 MB)\n",
      "Non-trainable params: 0 (0.00 Byte)\n",
      "_________________________________________________________________\n"
     ]
    }
   ],
   "source": [
    "model.summary()"
   ]
  },
  {
   "cell_type": "code",
   "execution_count": 24,
   "metadata": {},
   "outputs": [
    {
     "name": "stderr",
     "output_type": "stream",
     "text": [
      "/home/prehsiat/Documents/Tugas-2-Kecerdasan-Artifisial-21081070100600/env/lib/python3.10/site-packages/keras/src/engine/training.py:3103: UserWarning: You are saving your model as an HDF5 file via `model.save()`. This file format is considered legacy. We recommend using instead the native Keras format, e.g. `model.save('my_model.keras')`.\n",
      "  saving_api.save_model(\n"
     ]
    }
   ],
   "source": [
    "# Simpan model ke dalam file .h5\n",
    "model.save(\"ANNTugas2AI.h5\")\n"
   ]
  }
 ],
 "metadata": {
  "kernelspec": {
   "display_name": "env",
   "language": "python",
   "name": "python3"
  },
  "language_info": {
   "codemirror_mode": {
    "name": "ipython",
    "version": 3
   },
   "file_extension": ".py",
   "mimetype": "text/x-python",
   "name": "python",
   "nbconvert_exporter": "python",
   "pygments_lexer": "ipython3",
   "version": "3.10.12"
  }
 },
 "nbformat": 4,
 "nbformat_minor": 2
}
